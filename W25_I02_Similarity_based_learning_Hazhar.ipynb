{
  "nbformat": 4,
  "nbformat_minor": 0,
  "metadata": {
    "colab": {
      "provenance": [],
      "include_colab_link": true
    },
    "kernelspec": {
      "name": "python3",
      "display_name": "Python 3"
    },
    "language_info": {
      "name": "python"
    }
  },
  "cells": [
    {
      "cell_type": "markdown",
      "metadata": {
        "id": "view-in-github",
        "colab_type": "text"
      },
      "source": [
        "<a href=\"https://colab.research.google.com/github/Hazhar-Rahmani/Business-Analytics2/blob/main/W25_I02_Similarity_based_learning_Hazhar.ipynb\" target=\"_parent\"><img src=\"https://colab.research.google.com/assets/colab-badge.svg\" alt=\"Open In Colab\"/></a>"
      ]
    },
    {
      "cell_type": "code",
      "execution_count": null,
      "metadata": {
        "id": "C23FJsYd87od"
      },
      "outputs": [],
      "source": [
        "#Define the items\n",
        "item_codes = [107, 498, 7256, 28063, 75328]\n",
        "# Define the dataset\n",
        "customers = {\n",
        "    \"Customer 1\": [True, True, True, False, False],\n",
        "    \"Customer 2\": [True, False, False, True, True],\n",
        "}"
      ]
    },
    {
      "cell_type": "code",
      "source": [
        "query = [True, False, True, False, False]  # Query customer's purchase history"
      ],
      "metadata": {
        "id": "Ds4gAPD58_Nu"
      },
      "execution_count": null,
      "outputs": []
    },
    {
      "cell_type": "code",
      "source": [
        "# Define function to calculate Jaccard Similarity\n",
        "def jaccard_similarity(a, b):\n",
        "    cp = sum(1 for x, y in zip(a, b) if x and y)  # Common purchases\n",
        "    pa = sum(1 for x, y in zip(a, b) if x and not y)  # Query bought, customer didn't\n",
        "    ap = sum(1 for x, y in zip(a, b) if not x and y)  # Customer bought, query didn't\n",
        "    return cp / (cp + pa + ap)\n"
      ],
      "metadata": {
        "id": "adZkQH689A76"
      },
      "execution_count": null,
      "outputs": []
    },
    {
      "cell_type": "code",
      "source": [
        "# Compute similarity scores\n",
        "similarities = {customer: jaccard_similarity(query, purchases) for customer, purchases in customers.items()}\n"
      ],
      "metadata": {
        "id": "e718wYgJ9EO3"
      },
      "execution_count": null,
      "outputs": []
    },
    {
      "cell_type": "code",
      "source": [
        "# Find the most similar customer\n",
        "most_similar = max(similarities, key=similarities.get)\n"
      ],
      "metadata": {
        "id": "efR6luOO9GcX"
      },
      "execution_count": null,
      "outputs": []
    },
    {
      "cell_type": "code",
      "source": [
        "# Get the purchases of the most similar customer\n",
        "similar_customer_purchases = customers[most_similar]\n"
      ],
      "metadata": {
        "id": "PiF4aCS99IM4"
      },
      "execution_count": null,
      "outputs": []
    },
    {
      "cell_type": "code",
      "source": [
        "# Recommend items the most similar customer bought but query didn't\n",
        "recommendations = [\n",
        "    idx for idx, (q, c) in enumerate(zip(query, similar_customer_purchases)) if not q and c\n",
        "]\n"
      ],
      "metadata": {
        "id": "tVBmxpWr9JzL"
      },
      "execution_count": null,
      "outputs": []
    },
    {
      "cell_type": "code",
      "source": [
        "# Display results\n",
        "print(f\"Jaccard Similarities: {similarities}\")\n",
        "print(f\"Most similar customer: {most_similar}\")\n",
        "print(f\"Recommended items: {[item_codes[i] for i in recommendations]}\")\n"
      ],
      "metadata": {
        "colab": {
          "base_uri": "https://localhost:8080/"
        },
        "id": "NS1QlFIw9LYx",
        "outputId": "815df3a3-ef05-46d8-9de5-6ac6db336d9e"
      },
      "execution_count": null,
      "outputs": [
        {
          "output_type": "stream",
          "name": "stdout",
          "text": [
            "Jaccard Similarities: {'Customer 1': 0.6666666666666666, 'Customer 2': 0.25}\n",
            "Most similar customer: Customer 1\n",
            "Recommended items: [498]\n"
          ]
        }
      ]
    }
  ]
}